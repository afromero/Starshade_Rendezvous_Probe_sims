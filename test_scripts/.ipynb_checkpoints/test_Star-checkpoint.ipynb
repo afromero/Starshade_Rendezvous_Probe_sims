{
 "cells": [
  {
   "cell_type": "code",
   "execution_count": 1,
   "metadata": {},
   "outputs": [
    {
     "name": "stdout",
     "output_type": "stream",
     "text": [
      "flux, star1.Flux_bol: 2.103e-10 1.098e-09\n",
      "fractional irradiance 1.914e-01\n"
     ]
    }
   ],
   "source": [
    "%matplotlib inline\n",
    "\n",
    "import sys \n",
    "sys.path.insert(0, '../')\n",
    "\n",
    "from pylab import *\n",
    "from Star import Star\n",
    "\n",
    "'''\n",
    "Initiate Star\n",
    "'''\n",
    "star1 = Star(L_bol = 0.35, d_pc = 3.2, Temperature=5146.)\n",
    "\n",
    "'''\n",
    "Set the limits of the observing wavelength band (in meters)\n",
    "'''\n",
    "wl_1 = 615.e-9\n",
    "wl_2 = 800.e-9\n",
    "\n",
    "'''\n",
    "Estimate the star flux in that band in units of Watts / m^2\n",
    "'''\n",
    "flux = star1.get_Flux(wl_1, wl_2)\n",
    "\n",
    "'''\n",
    "Compare the flux in the specified band to the bolometric flux.\n",
    "'''\n",
    "print('flux, star1.Flux_bol: %1.3e %1.3e'%(flux, star1.Flux_bol)) # in Watts / m^2\n",
    "\n",
    "'''\n",
    "Estimate the band fractional irradiance (ratio of irradiance in band vs total)\n",
    "'''\n",
    "print('fractional irradiance %1.3e'%(star1.get_band_fractional_irradiance(wl_1, wl_2)))"
   ]
  },
  {
   "cell_type": "code",
   "execution_count": null,
   "metadata": {},
   "outputs": [],
   "source": []
  }
 ],
 "metadata": {
  "kernelspec": {
   "display_name": "Python 3",
   "language": "python",
   "name": "python3"
  },
  "language_info": {
   "codemirror_mode": {
    "name": "ipython",
    "version": 3
   },
   "file_extension": ".py",
   "mimetype": "text/x-python",
   "name": "python",
   "nbconvert_exporter": "python",
   "pygments_lexer": "ipython3",
   "version": "3.7.6"
  }
 },
 "nbformat": 4,
 "nbformat_minor": 1
}
