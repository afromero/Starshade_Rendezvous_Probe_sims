{
 "cells": [
  {
   "cell_type": "code",
   "execution_count": 3,
   "metadata": {},
   "outputs": [
    {
     "name": "stdout",
     "output_type": "stream",
     "text": [
      "tau Ceti\n",
      "Initializing Orbit_Simulator\n",
      "starts [ 15 148 381 514]\n",
      "ends [ 47 183 413 548]\n",
      "se_indices [[15, 47], [148, 183], [381, 413], [514, 548]] 4\n",
      "[15, 47] [148, 183]\n",
      "15 47 148 183\n",
      "t_obs_array [ 15 148 381 514]\n"
     ]
    }
   ],
   "source": [
    "%matplotlib inline\n",
    "from pylab import *\n",
    "\n",
    "from Orbit_Simulator import Orbit_Simulator\n",
    "\n",
    "#HIP = 16537 #epsilon Eridani, dropped due to high zodi\n",
    "HIP = 8102   #tau Ceti\n",
    "#HIP = 37279  #Procyon A\n",
    "#HIP = 108870 #epsilon Indi A\n",
    "#HIP = 32349  #Sirius A\n",
    "#HIP = 19849  #omicron 2 Eridani\n",
    "#HIP = 97649  #Altair\n",
    "#HIP = 99240  #delta Pavonis\n",
    "#HIP = 15510  #82 Eridani\n",
    "#HIP = 96100  #sigma Draconis\n",
    "#HIP = 2021  #beta Hyi\n",
    "#HIP = 61317  #beta CVn\n",
    "#HIP = 22449  #1 Ori\n",
    "##HIP = 91262 #Vega, dropped due to high zodi\n",
    "##HIP = 86974 #Mu Herculis, dropped to binary companion contamination\n",
    "#HIP = 113368 #Fomalhaut\n",
    "#HIP = 17378  #Delta Eridani\n",
    "#HIP = 27072  #Gamma Leporis\n",
    "#HIP = 1599   #Zeta Tucanae\n",
    "    \n",
    "OrbSim = Orbit_Simulator(HIP, \n",
    "                         duration_yrs=2, \n",
    "                         init_date = '2029/1/1')\n"
   ]
  },
  {
   "cell_type": "code",
   "execution_count": 2,
   "metadata": {},
   "outputs": [
    {
     "data": {
      "text/plain": [
       "[<matplotlib.lines.Line2D at 0x7f8e881d4650>]"
      ]
     },
     "execution_count": 2,
     "metadata": {},
     "output_type": "execute_result"
    },
    {
     "data": {
      "image/png": "[encoded data removed]",
      "text/plain": [
       "<Figure size 864x36 with 1 Axes>"
      ]
     },
     "metadata": {
      "needs_background": "light"
     },
     "output_type": "display_data"
    }
   ],
   "source": [
    "'''\n",
    "Plot the target availability windows for Tau Ceti\n",
    "'''\n",
    "figure(1, figsize=(12,0.5))\n",
    "col='k'\n",
    "#if(count<=5): col ='r'\n",
    "#if(count>5 and count<=9): col ='g'\n",
    "#if(count>9 and count<=12): col ='b'\n",
    "plot(OrbSim.days[OrbSim.obs_cut], np.ones(len(OrbSim.days[OrbSim.obs_cut])), '|', mew=2, ms=24, color='gold')\n",
    "xlabel('Days since %s'%OrbSim.init_date)\n",
    "xlim(0,len(OrbSim.ang))\n",
    "yticks([])\n",
    "grid(True)\n",
    "title(OrbSim.star_name+ ' target availability windows')\n",
    "\n",
    "plot(OrbSim.t_obs_array, 1.*np.ones(len(OrbSim.t_obs_array)), 'ro', ms=6, mfc='none', mec='r', mew=3)\n"
   ]
  },
  {
   "cell_type": "code",
   "execution_count": null,
   "metadata": {},
   "outputs": [],
   "source": []
  },
  {
   "cell_type": "code",
   "execution_count": null,
   "metadata": {},
   "outputs": [],
   "source": []
  }
 ],
 "metadata": {
  "kernelspec": {
   "display_name": "Python 3",
   "language": "python",
   "name": "python3"
  },
  "language_info": {
   "codemirror_mode": {
    "name": "ipython",
    "version": 3
   },
   "file_extension": ".py",
   "mimetype": "text/x-python",
   "name": "python",
   "nbconvert_exporter": "python",
   "pygments_lexer": "ipython3",
   "version": "3.7.6"
  }
 },
 "nbformat": 4,
 "nbformat_minor": 4
}
