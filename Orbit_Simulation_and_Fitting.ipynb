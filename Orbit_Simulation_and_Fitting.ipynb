{
 "cells": [
  {
   "cell_type": "code",
   "execution_count": 1,
   "metadata": {},
   "outputs": [
    {
     "name": "stdout",
     "output_type": "stream",
     "text": [
      "Initializing Orbit_Simulator\n",
      "tau Ceti\n"
     ]
    }
   ],
   "source": [
    "%matplotlib inline\n",
    "from pylab import *\n",
    "\n",
    "from Orbit_Simulator import Orbit_Simulator\n",
    "\n",
    "#HIP = 16537 #epsilon Eridani, dropped due to high zodi\n",
    "HIP = 8102   #tau Ceti\n",
    "#HIP = 37279  #Procyon A\n",
    "#HIP = 108870 #epsilon Indi A\n",
    "#HIP = 32349  #Sirius A\n",
    "#HIP = 19849  #omicron 2 Eridani\n",
    "#HIP = 97649  #Altair\n",
    "#HIP = 99240  #delta Pavonis\n",
    "#HIP = 15510  #82 Eridani\n",
    "#HIP = 96100  #sigma Draconis\n",
    "#HIP = 2021  #beta Hyi\n",
    "#HIP = 61317  #beta CVn\n",
    "#HIP = 22449  #1 Ori\n",
    "##HIP = 91262 #Vega, dropped due to high zodi\n",
    "##HIP = 86974 #Mu Herculis, dropped to binary companion contamination\n",
    "#HIP = 113368 #Fomalhaut\n",
    "#HIP = 17378  #Delta Eridani\n",
    "#HIP = 27072  #Gamma Leporis\n",
    "#HIP = 1599   #Zeta Tucanae\n",
    "    \n",
    "OrbSim = Orbit_Simulator(HIP)\n"
   ]
  },
  {
   "cell_type": "code",
   "execution_count": 2,
   "metadata": {},
   "outputs": [
    {
     "name": "stdout",
     "output_type": "stream",
     "text": [
      "Time Windows (4):  [[15, 47], [148, 183], [381, 413], [514, 548]]\n",
      "Window Durations (days):  [32, 35, 32, 34]\n",
      "Observation Times:  [ 15 148 381 514]\n"
     ]
    },
    {
     "data": {
      "text/plain": [
       "[<matplotlib.lines.Line2D at 0x7f83f04b5490>]"
      ]
     },
     "execution_count": 2,
     "metadata": {},
     "output_type": "execute_result"
    },
    {
     "data": {
      "image/png": "[encoded data removed]",
      "text/plain": [
       "<Figure size 864x36 with 1 Axes>"
      ]
     },
     "metadata": {
      "needs_background": "light"
     },
     "output_type": "display_data"
    }
   ],
   "source": [
    "'''\n",
    "Plot the target availability windows\n",
    "'''\n",
    "OrbSim.get_observation_time_array(init_date = '2029/1/1',\n",
    "                                  duration_yrs=2)\n",
    "\n",
    "figure(1, figsize=(12,0.5))\n",
    "col='k'\n",
    "plot(OrbSim.days[OrbSim.obs_cut], np.ones(len(OrbSim.days[OrbSim.obs_cut])), \n",
    "     '|', mew=2, ms=24, color='gold')\n",
    "xlabel('Days since %s'%OrbSim.init_date)\n",
    "xlim(0,len(OrbSim.ang))\n",
    "yticks([])\n",
    "grid(True)\n",
    "title(OrbSim.star_name+ ' target availability windows')\n",
    "\n",
    "plot(OrbSim.t_obs_array, 1.*np.ones(len(OrbSim.t_obs_array)), \n",
    "     'ro', ms=6, mfc='none', mec='r', mew=2)\n"
   ]
  },
  {
   "cell_type": "code",
   "execution_count": 3,
   "metadata": {},
   "outputs": [
    {
     "name": "stdout",
     "output_type": "stream",
     "text": [
      "entry: 0\n",
      "Number of Detections 3\n",
      "SNR [ 8.11667725 35.68523296  2.12788759 34.2805383 ]\n",
      "astrometric uncertainty [ 8.00820311  1.82148173 30.54672645  1.89611958]\n"
     ]
    }
   ],
   "source": [
    "hits = 0\n",
    "while hits<3:\n",
    "    OrbSim.sample_orbits(num_samples=1)\n",
    "    entry = np.random.randint(len(OrbSim.Period))\n",
    "    hits = OrbSim.hits[entry]\n",
    "print('entry:', entry)\n",
    "print('Number of Detections', OrbSim.hits[entry])\n",
    "true_dat   = np.array([OrbSim.projected_x_mas[:,entry], OrbSim.projected_y_mas[:,entry]])\n",
    "SNR        = OrbSim.SNR[:, entry]\n",
    "\n",
    "# Generate simulated astrometric data with uncertainties\n",
    "err_data   = np.array([65./SNR,65./SNR]) \n",
    "dat        = true_dat + np.random.normal(0.,err_data)\n",
    "data = np.zeros((2,(OrbSim.hits[entry])))\n",
    "data_uncertainties= np.zeros((2,(OrbSim.hits[entry])))\n",
    "time = np.zeros((OrbSim.hits[entry]))\n",
    "\n",
    "print('SNR',SNR)\n",
    "print('astrometric uncertainty',65./SNR)\n",
    "count=0\n",
    "for ii in range(0,len(SNR)):\n",
    "    if SNR[ii]>OrbSim.SNR_cut:\n",
    "        data[:,count] = dat[:,ii]\n",
    "        data_uncertainties[:,count] = err_data[:,ii]\n",
    "        time[count] = OrbSim.t_obs_array[ii]\n",
    "        count+=1"
   ]
  },
  {
   "cell_type": "code",
   "execution_count": null,
   "metadata": {},
   "outputs": [],
   "source": [
    "from Kepler import Kepler\n",
    "KPC = Kepler(force_new_LUT=False)\n",
    "\n",
    "truth_parameters = np.array([OrbSim.a_SM, \n",
    "                             OrbSim.t_0, \n",
    "                             OrbSim.star_model.Mass, \n",
    "                             OrbSim.eccentricity, \n",
    "                             OrbSim.LAN, \n",
    "                             OrbSim.inclination, \n",
    "                             OrbSim.arg_peri, \n",
    "                             OrbSim.star_model.d_pc])\n",
    "\n",
    "truth_Kepler_parameters = np.array([OrbSim.a_SM[entry], \n",
    "                                    OrbSim.t_0[entry], \n",
    "                                    OrbSim.Period[entry], \n",
    "                                    OrbSim.eccentricity[entry], \n",
    "                                    OrbSim.LAN[entry], \n",
    "                                    OrbSim.inclination[entry], \n",
    "                                    OrbSim.arg_peri[entry]])\n",
    "\n",
    "\n",
    "'''\n",
    "Plot data\n",
    "'''\n",
    "rcParams['font.size']=16\n",
    "figure(1, figsize=(4.5,4))\n",
    "ax=subplot(111)\n",
    "dt = OrbSim.Period/2000.\n",
    "t_val = np.arange(0.,2.*OrbSim.Period, dt)\n",
    "\n",
    "''' \n",
    "Plot the true orbit on the sky \n",
    "'''\n",
    "pts_s = KPC.get_Orbit_points(t_val, *truth_Kepler_parameters)\n",
    "plot(pts_s[0], pts_s[1], '-', color='dodgerblue')\n",
    "\n",
    "''' \n",
    "Plot the inner and outer habitable zone bounds \n",
    "projected on the sky \n",
    "'''\n",
    "prm = truth_Kepler_parameters.copy()\n",
    "prm[0] = OrbSim.HZ_mas[0]\n",
    "prm[-2] = 0.\n",
    "pts_In = KPC.get_Orbit_points(t_val, *prm)\n",
    "plot(pts_In[0], pts_In[1], 'g-', alpha=0.25)\n",
    "prm[0] = OrbSim.HZ_mas[1]\n",
    "pts_Out = KPC.get_Orbit_points(t_val, *prm)\n",
    "plot(pts_Out[0], pts_Out[1], 'g-', alpha=0.25)\n",
    "\n",
    "'''\n",
    "Get bounds for plotting\n",
    "'''\n",
    "abs_max = np.max([np.max(np.abs(pts_s[0])), \n",
    "                  np.max(np.abs(pts_s[1])),\n",
    "                  np.max(np.abs(pts_Out[0])),\n",
    "                  np.max(np.abs(pts_Out[1]))])\n",
    "\n",
    "\n",
    "'''\n",
    "Plot true planet positions during observation times\n",
    "'''\n",
    "pts_0 = KPC.get_Orbit_points(OrbSim.t_obs_array, *truth_Kepler_parameters)\n",
    "plot(pts_0[0], pts_0[1], 'o', mfc='none', mec='dodgerblue', ms=12)\n",
    "\n",
    "'''\n",
    "Label the observation number\n",
    "'''\n",
    "for k in range(len(OrbSim.t_obs_array)):\n",
    "    text(pts_0[0,k], pts_0[1,k], ' %d'%(k+1), verticalalignment='top', color='blue')\n",
    "\n",
    "'''\n",
    "Plot the simulated data with error bars\n",
    "'''\n",
    "errorbar(data[0], data[1], xerr = 3.*data_uncertainties[0], yerr=3.*data_uncertainties[1], fmt='r.')\n",
    "\n",
    "'''\n",
    "Mark the position of the star\n",
    "'''\n",
    "plot([0.], [0.], '*', ms=12, color='orange')\n",
    "\n",
    "# print 'data[0]', data[0]\n",
    "# print 'data[1]', data[1]\n",
    "# print 'time_array', time_array\n",
    "\n",
    "'''\n",
    "Draw the size of the inner working angle\n",
    "'''\n",
    "circle1 = plt.Circle((0., 0.), 100., color='k', alpha=0.2)\n",
    "ax.add_artist(circle1)\n",
    "text(0., -30., 'IWA', color='k', verticalalignment='top', horizontalalignment='center')\n",
    "#xlim(-fl['HZ_mas'][1], fl['HZ_mas'][1])\n",
    "#ylim(-fl['HZ_mas'][1], fl['HZ_mas'][1])\n",
    "text(-abs_max, abs_max, 'HZ bounds', color='g', verticalalignment='top')\n",
    "abs_max *= 1.1\n",
    "xlim(-abs_max, abs_max)\n",
    "ylim(-abs_max, abs_max)\n",
    "\n",
    "xlabel('$\\delta$RA, mas')\n",
    "ylabel('$\\delta$dec, mas')\n",
    "tight_layout()\n",
    "axes().set_aspect('equal', 'datalim')\n",
    "''' \n",
    "savefig('orbit_example_1.pdf')\n",
    "'''\n"
   ]
  },
  {
   "cell_type": "code",
   "execution_count": null,
   "metadata": {},
   "outputs": [],
   "source": []
  },
  {
   "cell_type": "code",
   "execution_count": null,
   "metadata": {},
   "outputs": [],
   "source": []
  }
 ],
 "metadata": {
  "kernelspec": {
   "display_name": "Python 3",
   "language": "python",
   "name": "python3"
  },
  "language_info": {
   "codemirror_mode": {
    "name": "ipython",
    "version": 3
   },
   "file_extension": ".py",
   "mimetype": "text/x-python",
   "name": "python",
   "nbconvert_exporter": "python",
   "pygments_lexer": "ipython3",
   "version": "3.7.6"
  }
 },
 "nbformat": 4,
 "nbformat_minor": 4
}
